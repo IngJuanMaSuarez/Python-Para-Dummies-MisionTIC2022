{
 "cells": [
  {
   "cell_type": "code",
   "execution_count": 23,
   "metadata": {},
   "outputs": [],
   "source": [
    "baraja = ('K', '2', '4', '9', 'Q', 'J', '6', 'Q', '2', '9', 'A', 5)\n",
    "jugador_uno = baraja[0::2]\n",
    "jugador_dos = baraja[1::2]"
   ]
  },
  {
   "cell_type": "code",
   "execution_count": 24,
   "metadata": {},
   "outputs": [
    {
     "name": "stdout",
     "output_type": "stream",
     "text": [
      "('K', '4', 'Q', '6', '2', 'A')\n",
      "('2', '9', 'J', 'Q', '9', 5)\n"
     ]
    }
   ],
   "source": [
    "print(jugador_uno)\n",
    "print(jugador_dos)"
   ]
  },
  {
   "cell_type": "code",
   "execution_count": 25,
   "metadata": {},
   "outputs": [
    {
     "name": "stdout",
     "output_type": "stream",
     "text": [
      "K\n",
      "('K', '4', 'Q', '6', '2')\n",
      "4\n",
      "Q\n",
      "('Q', '6', '2', 'A')\n",
      "6\n",
      "2\n",
      "A\n",
      "('A',)\n"
     ]
    }
   ],
   "source": [
    "indice = 0\n",
    "\n",
    "for carta in jugador_uno:\n",
    "    print(carta)\n",
    "    if (carta == 'A'):\n",
    "        print(jugador_uno[indice: indice + 2])\n",
    "    if (carta == 'J'):\n",
    "        print(jugador_uno[indice: indice + 3])\n",
    "    if (carta == 'Q'):\n",
    "        print(jugador_uno[indice: indice + 4])\n",
    "    if (carta == 'K'):\n",
    "        print(jugador_uno[indice: indice + 5])\n",
    "    indice += 1"
   ]
  },
  {
   "cell_type": "code",
   "execution_count": 26,
   "metadata": {},
   "outputs": [],
   "source": [
    "def tiene_cartas_altas(cartas_siguiente):\n",
    "    if ('A' in cartas_siguiente or 'J' in cartas_siguiente or 'Q' in cartas_siguiente or 'K' in cartas_siguiente):\n",
    "        return True"
   ]
  },
  {
   "cell_type": "code",
   "execution_count": 29,
   "metadata": {},
   "outputs": [
    {
     "name": "stdout",
     "output_type": "stream",
     "text": [
      "K\n",
      "('K', '4', 'Q', '6', '2')\n",
      "True\n",
      "4\n",
      "Q\n",
      "('Q', '6', '2', 'A')\n",
      "True\n",
      "6\n",
      "2\n",
      "A\n",
      "('A',)\n",
      "0\n"
     ]
    }
   ],
   "source": [
    "indice = 0\n",
    "puntaje_jugador_uno = 0\n",
    "\n",
    "for carta in jugador_uno:\n",
    "    print(carta)\n",
    "    if (carta == 'A'):\n",
    "        print(jugador_uno[indice: indice + 2])\n",
    "        if (not tiene_cartas_altas(jugador_uno[indice: indice + 2])):\n",
    "            puntaje_jugador_uno += 1\n",
    "    if (carta == 'J'):\n",
    "        print(jugador_uno[indice: indice + 3])\n",
    "        print(tiene_cartas_altas(jugador_uno[indice: indice + 3]))\n",
    "    if (carta == 'Q'):\n",
    "        print(jugador_uno[indice: indice + 4])\n",
    "        print(tiene_cartas_altas(jugador_uno[indice: indice + 4]))\n",
    "    if (carta == 'K'):\n",
    "        print(jugador_uno[indice: indice + 5])\n",
    "        print(tiene_cartas_altas(jugador_uno[indice: indice + 5]))\n",
    "    indice += 1\n",
    "\n",
    "print(puntaje_jugador_uno)"
   ]
  },
  {
   "cell_type": "code",
   "execution_count": null,
   "metadata": {},
   "outputs": [],
   "source": []
  }
 ],
 "metadata": {
  "interpreter": {
   "hash": "283410a2baf1d14453b0ba62147718d4605c9fe3e463674fc99da75c13505e66"
  },
  "kernelspec": {
   "display_name": "Python 3.8.8 ('base')",
   "language": "python",
   "name": "python3"
  },
  "language_info": {
   "codemirror_mode": {
    "name": "ipython",
    "version": 3
   },
   "file_extension": ".py",
   "mimetype": "text/x-python",
   "name": "python",
   "nbconvert_exporter": "python",
   "pygments_lexer": "ipython3",
   "version": "3.8.8"
  },
  "orig_nbformat": 4
 },
 "nbformat": 4,
 "nbformat_minor": 2
}
