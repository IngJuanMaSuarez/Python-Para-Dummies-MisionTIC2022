{
 "cells": [
  {
   "cell_type": "code",
   "execution_count": 1,
   "metadata": {},
   "outputs": [],
   "source": [
    "correspondencia_numerica = {\n",
    "    'A': 0, \n",
    "    'B': 1, \n",
    "    'C': 2, \n",
    "    'D': 3, \n",
    "    'E': 4, \n",
    "    'F': 5, \n",
    "    'G': 6, \n",
    "    'H': 7, \n",
    "    'I': 8, \n",
    "    'J': 9, \n",
    "    'K': 10, \n",
    "    'L': 11, \n",
    "    'M': 12, \n",
    "    'N': 13, \n",
    "    'Ñ': 14, \n",
    "    'O': 15, \n",
    "    'P': 16, \n",
    "    'Q': 17, \n",
    "    'R': 18, \n",
    "    'S': 19, \n",
    "    'T': 20, \n",
    "    'U': 21, \n",
    "    'V': 22, \n",
    "    'W': 23, \n",
    "    'X': 24, \n",
    "    'Y': 25, \n",
    "    'Z': 26\n",
    "}"
   ]
  },
  {
   "cell_type": "code",
   "execution_count": 2,
   "metadata": {},
   "outputs": [],
   "source": [
    "b = 7"
   ]
  },
  {
   "cell_type": "code",
   "execution_count": 24,
   "metadata": {},
   "outputs": [
    {
     "data": {
      "text/plain": [
       "'H'"
      ]
     },
     "execution_count": 24,
     "metadata": {},
     "output_type": "execute_result"
    }
   ],
   "source": [
    "valor = (correspondencia_numerica['A'] + b) % 27\n",
    "list(correspondencia_numerica.keys())[valor]"
   ]
  },
  {
   "cell_type": "code",
   "execution_count": 25,
   "metadata": {},
   "outputs": [
    {
     "data": {
      "text/plain": [
       "'A'"
      ]
     },
     "execution_count": 25,
     "metadata": {},
     "output_type": "execute_result"
    }
   ],
   "source": [
    "valor = (correspondencia_numerica['H'] - b) % 27\n",
    "list(correspondencia_numerica.keys())[valor]"
   ]
  },
  {
   "cell_type": "code",
   "execution_count": 41,
   "metadata": {},
   "outputs": [],
   "source": [
    "def encriptar_caracter(caracter, b):\n",
    "    valor = (correspondencia_numerica[caracter] + b) % 27\n",
    "    caracter_encriptado = list(correspondencia_numerica.keys())[valor]\n",
    "    return caracter_encriptado"
   ]
  },
  {
   "cell_type": "code",
   "execution_count": 30,
   "metadata": {},
   "outputs": [
    {
     "data": {
      "text/plain": [
       "'H'"
      ]
     },
     "execution_count": 30,
     "metadata": {},
     "output_type": "execute_result"
    }
   ],
   "source": [
    "encriptar_caracter('P', 45)"
   ]
  },
  {
   "cell_type": "code",
   "execution_count": 47,
   "metadata": {},
   "outputs": [
    {
     "name": "stdout",
     "output_type": "stream",
     "text": [
      "J\n",
      "S\n",
      "\n",
      "U\n",
      "E\n",
      "\n",
      "A\n",
      "K\n",
      "\n",
      "N\n",
      "W\n",
      "\n"
     ]
    }
   ],
   "source": [
    "mensaje = \"JUAN\"\n",
    "b = 10\n",
    "\n",
    "for caracter in mensaje:\n",
    "    print(caracter)\n",
    "    print(encriptar_caracter(caracter, b))\n",
    "    print()"
   ]
  },
  {
   "cell_type": "code",
   "execution_count": null,
   "metadata": {},
   "outputs": [],
   "source": []
  }
 ],
 "metadata": {
  "interpreter": {
   "hash": "283410a2baf1d14453b0ba62147718d4605c9fe3e463674fc99da75c13505e66"
  },
  "kernelspec": {
   "display_name": "Python 3.8.8 ('base')",
   "language": "python",
   "name": "python3"
  },
  "language_info": {
   "codemirror_mode": {
    "name": "ipython",
    "version": 3
   },
   "file_extension": ".py",
   "mimetype": "text/x-python",
   "name": "python",
   "nbconvert_exporter": "python",
   "pygments_lexer": "ipython3",
   "version": "3.8.8"
  },
  "orig_nbformat": 4
 },
 "nbformat": 4,
 "nbformat_minor": 2
}
