{
 "cells": [
  {
   "cell_type": "code",
   "execution_count": 1,
   "metadata": {},
   "outputs": [],
   "source": [
    "pensum = [\n",
    "    {'0123': {'creditos': 2, 'nombre': 'intro a la ing'}, '4567': {'creditos': 1, 'nombre': 'ingles'}},\n",
    "    {},\n",
    "    {}\n",
    "]"
   ]
  },
  {
   "cell_type": "code",
   "execution_count": 21,
   "metadata": {},
   "outputs": [],
   "source": [
    "def es_semestre_valido(pensum, semestre):\n",
    "    if (semestre > 0 and semestre <= len(pensum)):\n",
    "        return True\n",
    "    else:\n",
    "        return False"
   ]
  },
  {
   "cell_type": "code",
   "execution_count": 25,
   "metadata": {},
   "outputs": [
    {
     "data": {
      "text/plain": [
       "True"
      ]
     },
     "execution_count": 25,
     "metadata": {},
     "output_type": "execute_result"
    }
   ],
   "source": [
    "es_semestre_valido(pensum, 1)"
   ]
  },
  {
   "cell_type": "code",
   "execution_count": 43,
   "metadata": {},
   "outputs": [],
   "source": [
    "def es_semestre_vacio(pensum, semestre):\n",
    "    semestre_seleccionado = pensum[semestre - 1]\n",
    "    if (len(semestre_seleccionado) == 0):\n",
    "        return True\n",
    "    else:\n",
    "        return False"
   ]
  },
  {
   "cell_type": "code",
   "execution_count": 46,
   "metadata": {},
   "outputs": [
    {
     "data": {
      "text/plain": [
       "True"
      ]
     },
     "execution_count": 46,
     "metadata": {},
     "output_type": "execute_result"
    }
   ],
   "source": [
    "es_semestre_vacio(pensum, 2)"
   ]
  },
  {
   "cell_type": "code",
   "execution_count": 56,
   "metadata": {},
   "outputs": [
    {
     "name": "stdout",
     "output_type": "stream",
     "text": [
      "False\n"
     ]
    }
   ],
   "source": [
    "semestre = 2\n",
    "print('1235' in pensum[semestre - 1])"
   ]
  },
  {
   "cell_type": "code",
   "execution_count": 59,
   "metadata": {},
   "outputs": [
    {
     "data": {
      "text/plain": [
       "[{'0123': {'creditos': 2, 'nombre': 'intro a la ing'},\n",
       "  '4567': {'creditos': 1, 'nombre': 'ingles'}},\n",
       " {},\n",
       " {}]"
      ]
     },
     "execution_count": 59,
     "metadata": {},
     "output_type": "execute_result"
    }
   ],
   "source": [
    "pensum"
   ]
  },
  {
   "cell_type": "code",
   "execution_count": 65,
   "metadata": {},
   "outputs": [
    {
     "data": {
      "text/plain": [
       "{}"
      ]
     },
     "execution_count": 65,
     "metadata": {},
     "output_type": "execute_result"
    }
   ],
   "source": [
    "semestre = 3\n",
    "pensum[semestre - 1]"
   ]
  },
  {
   "cell_type": "code",
   "execution_count": null,
   "metadata": {},
   "outputs": [],
   "source": [
    "# def modificar_materia(pensum, semestre, materia, nombre, creditos):\n",
    "#     if (es_semestre_valido):\n",
    "#         if (not es_semestre_vacio):\n",
    "#             es_materia_valida:"
   ]
  },
  {
   "cell_type": "code",
   "execution_count": 66,
   "metadata": {},
   "outputs": [],
   "source": [
    "pensum = [\n",
    "    {'0123': {'creditos': 2, 'nombre': 'intro a la ing'}, '4567': {'creditos': 1, 'nombre': 'ingles'}},\n",
    "    {},\n",
    "    {}\n",
    "]"
   ]
  },
  {
   "cell_type": "code",
   "execution_count": 69,
   "metadata": {},
   "outputs": [
    {
     "data": {
      "text/plain": [
       "[{'0123': {'creditos': 2, 'nombre': 'Python'},\n",
       "  '4567': {'creditos': 1, 'nombre': 'ingles'}},\n",
       " {},\n",
       " {}]"
      ]
     },
     "execution_count": 69,
     "metadata": {},
     "output_type": "execute_result"
    }
   ],
   "source": [
    "pensum[0]['0123']['nombre'] = \"Python\"\n",
    "pensum"
   ]
  },
  {
   "cell_type": "code",
   "execution_count": 71,
   "metadata": {},
   "outputs": [
    {
     "data": {
      "text/plain": [
       "[{'0123': {'creditos': '5525', 'nombre': 'Python'},\n",
       "  '4567': {'creditos': 1, 'nombre': 'ingles'}},\n",
       " {},\n",
       " {}]"
      ]
     },
     "execution_count": 71,
     "metadata": {},
     "output_type": "execute_result"
    }
   ],
   "source": [
    "pensum[0]['0123']['creditos'] = \"5525\"\n",
    "pensum"
   ]
  },
  {
   "cell_type": "code",
   "execution_count": 72,
   "metadata": {},
   "outputs": [
    {
     "data": {
      "text/plain": [
       "[{'4567': {'creditos': 1, 'nombre': 'ingles'}}, {}, {}]"
      ]
     },
     "execution_count": 72,
     "metadata": {},
     "output_type": "execute_result"
    }
   ],
   "source": [
    "del pensum[0]['0123']\n",
    "pensum"
   ]
  },
  {
   "cell_type": "code",
   "execution_count": null,
   "metadata": {},
   "outputs": [],
   "source": []
  }
 ],
 "metadata": {
  "interpreter": {
   "hash": "283410a2baf1d14453b0ba62147718d4605c9fe3e463674fc99da75c13505e66"
  },
  "kernelspec": {
   "display_name": "Python 3.8.8 ('base')",
   "language": "python",
   "name": "python3"
  },
  "language_info": {
   "codemirror_mode": {
    "name": "ipython",
    "version": 3
   },
   "file_extension": ".py",
   "mimetype": "text/x-python",
   "name": "python",
   "nbconvert_exporter": "python",
   "pygments_lexer": "ipython3",
   "version": "3.8.8"
  },
  "orig_nbformat": 4
 },
 "nbformat": 4,
 "nbformat_minor": 2
}
